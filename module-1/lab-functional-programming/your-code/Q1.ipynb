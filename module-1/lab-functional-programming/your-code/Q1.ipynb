{
 "cells": [
  {
   "cell_type": "markdown",
   "metadata": {},
   "source": [
    "In the cell below, create a Python function that wraps your previous solution for the Bag of Words lab.\n",
    "\n",
    "Requirements:\n",
    "\n",
    "1. Your function should accept the following parameters:\n",
    "    * `docs` [REQUIRED] - array of document paths.\n",
    "    * `stop_words` [OPTIONAL] - array of stop words. The default value is an empty array.\n",
    "\n",
    "1. Your function should return a Python object that contains the following:\n",
    "    * `bag_of_words` - array of strings of normalized unique words in the corpus.\n",
    "    * `term_freq` - array of the term-frequency vectors."
   ]
  },
  {
   "cell_type": "code",
   "execution_count": 51,
   "metadata": {},
   "outputs": [],
   "source": [
    "# Import required libraries\n",
    "import os\n",
    "import re\n",
    "\n",
    "# Define function\n",
    "def get_bow_from_docs(docs, stop_words=[]):\n",
    " \n",
    "    # In the function, first define the variables you will use such as `corpus`, `bag_of_words`, and `term_freq`.\n",
    "    \n",
    "    \"\"\"\n",
    "    Loop `docs` and read the content of each doc into a string in `corpus`.\n",
    "    Remember to convert the doc content to lowercases and remove punctuation.\n",
    "    \"\"\"\n",
    "    extract = []\n",
    "    \n",
    "    for i in sorted(docs): \n",
    "        file = open(i, \"r\")\n",
    "        extract.append(file.read())\n",
    "            \n",
    "    corpus = [re.sub('[,.]','',i).lower() for i in extract]\n",
    "        \n",
    "    \"\"\"\n",
    "    Loop `corpus`. Append the terms in each doc into the `bag_of_words` array. The terms in `bag_of_words` \n",
    "    should be unique which means before adding each term you need to check if it's already added to the array.\n",
    "    In addition, check if each term is in the `stop_words` array. Only append the term to `bag_of_words`\n",
    "    if it is not a stop word.\n",
    "    \"\"\"\n",
    "\n",
    "    bag_of_words = []\n",
    "    for strings in corpus:\n",
    "        words = strings.split(' ')\n",
    "        for terms in words:\n",
    "            if terms not in bag_of_words:\n",
    "                bag_of_words.append(terms)\n",
    "            if terms in stop_words:\n",
    "                bag_of_words.remove(terms)\n",
    "    \n",
    "    \"\"\"\n",
    "    Loop `corpus` again. For each doc string, count the number of occurrences of each term in `bag_of_words`. \n",
    "    Create an array for each doc's term frequency and append it to `term_freq`.\n",
    "    \"\"\"\n",
    "    \n",
    "    term_freq = []\n",
    "    \n",
    "    for string in corpus:\n",
    "        temp_list = []\n",
    "        for word in bag_of_words:\n",
    "            if word in string.split(' '):\n",
    "                temp_list.append(1)\n",
    "            else:\n",
    "                temp_list.append(0)\n",
    "        term_freq.append(temp_list)\n",
    "    \n",
    "    # Now return your output as an object\n",
    "    return {\n",
    "        \"bag_of_words\": bag_of_words,\n",
    "        \"term_freq\": term_freq\n",
    "    }"
   ]
  },
  {
   "cell_type": "markdown",
   "metadata": {},
   "source": [
    "Test your function without stop words. You should see the output like below:\n",
    "\n",
    "```{'bag_of_words': ['ironhack', 'is', 'cool', 'i', 'love', 'am', 'a', 'student', 'at'], 'term_freq': [[1, 1, 1, 0, 0, 0, 0, 0, 0], [1, 0, 0, 1, 1, 0, 0, 0, 0], [1, 0, 0, 1, 0, 1, 1, 1, 1]]}```"
   ]
  },
  {
   "cell_type": "code",
   "execution_count": 52,
   "metadata": {},
   "outputs": [
    {
     "name": "stdout",
     "output_type": "stream",
     "text": [
      "{'bag_of_words': ['ironhack', 'is', 'cool', 'i', 'love', 'am', 'a', 'student', 'at'], 'term_freq': [[1, 1, 1, 0, 0, 0, 0, 0, 0], [1, 0, 0, 1, 1, 0, 0, 0, 0], [1, 0, 0, 1, 0, 1, 1, 1, 1]]}\n"
     ]
    }
   ],
   "source": [
    "# Define doc paths array\n",
    "docs = ['/Users/rayechevarria/documents/ironhack/data-labs/module-1/lab-string-operations/your-code/doc1.txt','/Users/rayechevarria/documents/ironhack/data-labs/module-1/lab-string-operations/your-code/doc2.txt','/Users/rayechevarria/documents/ironhack/data-labs/module-1/lab-string-operations/your-code/doc3.txt']\n",
    "\n",
    "# Obtain BoW from your function\n",
    "bow = get_bow_from_docs(docs)\n",
    "\n",
    "# Print BoW\n",
    "print(bow)"
   ]
  },
  {
   "cell_type": "markdown",
   "metadata": {},
   "source": [
    "If your attempt above is successful, nice work done!\n",
    "\n",
    "Now test your function again with the stop words. In the previous lab we defined the stop words in a large array. In this lab, we'll import the stop words from Scikit-Learn."
   ]
  },
  {
   "cell_type": "code",
   "execution_count": 53,
   "metadata": {},
   "outputs": [
    {
     "name": "stdout",
     "output_type": "stream",
     "text": [
      "frozenset({'anyhow', 'seeming', 'amongst', 'fire', 'them', 'very', 'ourselves', 'two', 'many', 'it', 'thin', 'being', 'seems', 'she', 'perhaps', 'too', 'at', 'several', 'ever', 'call', 'would', 'sixty', 'behind', 'we', 'him', 'our', 'almost', 'your', 'anything', 'you', 'and', 'became', 'please', 'however', 'seemed', 'con', 'thereupon', 'across', 'upon', 'yourselves', 'latterly', 'never', 'interest', 'is', 'seem', 'serious', 'between', 'over', 'if', 'only', 'former', 'sometime', 'along', 'moreover', 'detail', 'take', 'hereafter', 'with', 'thence', 'therein', 'beforehand', 'his', 'under', 'enough', 'into', 'fifty', 'own', 'cry', 'other', 'whom', 'whereby', 'me', 'others', 'neither', 'formerly', 'forty', 'put', 'top', 'always', 'some', 'might', 'to', 'whole', 'yours', 'yet', 'often', 'eight', 'hence', 'inc', 'he', 'its', 'empty', 'that', 'by', 'an', 'hereby', 'somewhere', 'system', 'themselves', 'hasnt', 'herself', 'noone', 'they', 'after', 'so', 'somehow', 'as', 'amoungst', 're', 'then', 'before', 'which', 'each', 'give', 'ltd', 'nine', 'none', 'off', 'any', 'whence', 'what', 'three', 'through', 'nothing', 'cant', 'together', 'again', 'without', 'until', 'eleven', 'mill', 'found', 'below', 'cannot', 'least', 'such', 'whither', 'beyond', 'one', 'five', 'alone', 'nevertheless', 'nowhere', 'were', 'everything', 'yourself', 'these', 'whether', 'few', 'fifteen', 'ours', 'us', 'since', 'while', 'a', 'someone', 'even', 'than', 'thereby', 'most', 'therefore', 'about', 'last', 'anywhere', 'otherwise', 'another', 'her', 'whatever', 'down', 'ie', 'whenever', 'co', 'hers', 'though', 'everywhere', 'four', 'six', 'here', 'describe', 'latter', 'made', 'keep', 'more', 'move', 'ten', 'bottom', 'hereupon', 'via', 'beside', 'although', 'may', 'un', 'in', 'de', 'twelve', 'there', 'sometimes', 'thick', 'thereafter', 'eg', 'myself', 'couldnt', 'must', 'this', 'around', 'something', 'how', 'throughout', 'besides', 'whoever', 'thus', 'anyone', 'afterwards', 'who', 'whereas', 'everyone', 'onto', 'name', 'my', 'be', 'no', 'within', 'twenty', 'also', 'already', 'can', 'next', 'first', 'on', 'further', 'rather', 'both', 'should', 'will', 'mine', 'front', 'am', 'whereupon', 'towards', 'once', 'much', 'still', 'all', 'get', 'for', 'per', 'back', 'wherein', 'himself', 'amount', 'are', 'have', 'has', 'above', 'among', 'done', 'due', 'nobody', 'sincere', 'had', 'same', 'when', 'out', 'of', 'full', 'every', 'etc', 'thru', 'whereafter', 'well', 'now', 'indeed', 'less', 'because', 'where', 'find', 'namely', 'against', 'wherever', 'else', 'except', 'elsewhere', 'do', 'toward', 'the', 'whose', 'from', 'i', 'part', 'could', 'but', 'up', 'those', 'go', 'itself', 'third', 'see', 'not', 'becoming', 'meanwhile', 'or', 'mostly', 'side', 'herein', 'was', 'nor', 'become', 'during', 'anyway', 'show', 'why', 'their', 'becomes', 'been', 'either', 'hundred', 'fill', 'bill'})\n"
     ]
    }
   ],
   "source": [
    "from sklearn.feature_extraction import stop_words\n",
    "print(stop_words.ENGLISH_STOP_WORDS)"
   ]
  },
  {
   "cell_type": "markdown",
   "metadata": {},
   "source": [
    "You should have seen a large list of words that looks like:\n",
    "\n",
    "```frozenset({'across', 'mine', 'cannot', ...})```\n",
    "\n",
    "`frozenset` is a type of Python object that is immutable. In this lab you can use it just like an array without conversion."
   ]
  },
  {
   "cell_type": "markdown",
   "metadata": {},
   "source": [
    "Next, test your function with supplying `stop_words.ENGLISH_STOP_WORDS` as the second parameter."
   ]
  },
  {
   "cell_type": "code",
   "execution_count": 57,
   "metadata": {},
   "outputs": [
    {
     "name": "stdout",
     "output_type": "stream",
     "text": [
      "{'bag_of_words': ['ironhack', 'cool', 'love', 'student'], 'term_freq': [[1, 1, 0, 0], [1, 0, 1, 0], [1, 0, 0, 1]]}\n"
     ]
    }
   ],
   "source": [
    "bow = get_bow_from_docs(docs, stop_words.ENGLISH_STOP_WORDS)\n",
    "\n",
    "print(bow)"
   ]
  },
  {
   "cell_type": "markdown",
   "metadata": {},
   "source": [
    "You should have seen:\n",
    "\n",
    "```{'bag_of_words': ['ironhack', 'cool', 'love', 'student'], 'term_freq': [[1, 1, 0, 0], [1, 0, 1, 0], [1, 0, 0, 1]]}```"
   ]
  }
 ],
 "metadata": {
  "kernelspec": {
   "display_name": "Python 3",
   "language": "python",
   "name": "python3"
  },
  "language_info": {
   "codemirror_mode": {
    "name": "ipython",
    "version": 3
   },
   "file_extension": ".py",
   "mimetype": "text/x-python",
   "name": "python",
   "nbconvert_exporter": "python",
   "pygments_lexer": "ipython3",
   "version": "3.7.3"
  }
 },
 "nbformat": 4,
 "nbformat_minor": 2
}
