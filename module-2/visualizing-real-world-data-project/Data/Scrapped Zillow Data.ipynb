{
 "cells": [
  {
   "cell_type": "code",
   "execution_count": 26,
   "metadata": {},
   "outputs": [],
   "source": [
    "import requests\n",
    "from bs4 import BeautifulSoup as bs\n",
    "import pandas as pd\n",
    "import numpy as np\n",
    "from selenium import webdriver\n",
    "import time\n",
    "import re"
   ]
  },
  {
   "cell_type": "code",
   "execution_count": null,
   "metadata": {},
   "outputs": [],
   "source": []
  },
  {
   "cell_type": "code",
   "execution_count": 55,
   "metadata": {},
   "outputs": [],
   "source": [
    "items = ['1704 Bramble Creek Dr, Desoto, TX 75115\\nHouse for sale\\n$241,900\\n3 bds2 ba2,408 sqft\\nOn market Oct 30\\nOwned by', '10411 Great Plains Ln, Houston, TX 77064\\nHouse for sale\\n$264,900\\n4 bds3 ba2,310 sqft\\nOn market Oct 31\\nOwned by', '12426 Laurel Meadow Way, Houston, TX 77014\\nHouse for sale\\n$194,900\\n3 bds3 ba2,316 sqft\\n3D Home\\nOwned by', '7314 Birchtree Forest Dr, Houston, TX 77088\\nHouse for sale\\n$304,900\\n4 bds4 ba3,594 sqft\\n3D Home\\nOwned by', '1700 Ports O Call Dr, Plano, TX 75075\\nHouse for sale\\n$280,900\\n4 bds2 ba1,852 sqft\\n3D Home\\nOwned by', '817 Chickesaw Ln, Wylie, TX 75098\\nHouse for sale\\n$216,900\\n3 bds3 ba1,484 sqft\\n3D Home\\nOwned by', '3431 Santa Gertrudis Dr, Dallas, TX 75241\\nHouse for sale\\n$159,900\\n3 bds2 ba1,248 sqft\\n3D Home\\nOwned by', '2373 Graystone Dr, Little Elm, TX 75068\\nHouse for sale\\n$235,900\\n4 bds2 ba1,771 sqft\\n3D Home\\nOwned by', '19402 Fletcher Way Dr, Houston, TX 77073\\nHouse for sale\\n$169,900\\n4 bds3 ba2,153 sqft\\n3D Home\\nOwned by', '13419 Greenwood Lakes Ln, Houston, TX 77044\\nHouse for sale\\n$415,000\\n5 bds4 ba3,974 sqft\\n3D Home\\nOwned by', '8638 Torreon Ct, Dallas, TX 75217\\nHouse for sale\\n$174,900\\n4 bds2 ba1,400 sqft\\n3D Home\\nOwned by', '9827 Gold Cup Way, Houston, TX 77065\\nHouse for sale\\n$236,700\\n4 bds3 ba2,808 sqft\\n3D Home\\nOwned by', '1729 Megan Creek Dr, Little Elm, TX 75068\\nHouse for sale\\n$275,000\\n4 bds3 ba2,817 sqft\\nOn market Jul 30\\nOwned by', '3400 Eisenhower Ave, Melissa, TX 75454\\nHouse for sale\\n$333,900\\n5 bds3 ba2,714 sqft\\n3D Home\\nOwned by', '3911 Stillview Dr, Houston, TX 77068\\nHouse for sale\\n$198,000\\n4 bds3 ba2,467 sqft\\n3D Home\\nOwned by', '609 Dover Ct, Coppell, TX 75019\\nHouse for sale\\n$294,900\\n3 bds2 ba1,689 sqft\\n3D Home\\nOwned by', '6305 Telluride Ln, Dallas, TX 75252\\nHouse for sale\\n$392,900\\n3 bds3 ba2,089 sqft\\n3D Home\\nOwned by', '10023 Lazy Meadows Dr, Houston, TX 77064\\nHouse for sale\\n$227,900\\n4 bds3 ba2,368 sqft\\n3D Home\\nOwned by', '4808 Barnhill Ln, Fort Worth, TX 76135\\nHouse for sale\\n$209,900\\n4 bds3 ba2,289 sqft\\nOn market Aug 8\\nOwned by', '3415 Willow Ridge Dr, Humble, TX 77339\\nHouse for sale\\n$335,000\\n5 bds5 ba3,777 sqft\\nOn market Jul 31\\nOwned by', '5124 Quail Ridge Dr, Mckinney, TX 75070\\nHouse for sale\\n$287,000\\n4 bds3 ba2,191 sqft\\n3D Home\\nOwned by', '4222 Grand Oak View Loop, Houston, TX 77084\\nHouse for sale\\n$343,900\\n5 bds4 ba4,358 sqft\\n3D Home\\nOwned by', '5317 Hayloft Ct, Fort Worth, TX 76123\\nHouse for sale\\n$288,900\\n5 bds4 ba3,034 sqft\\n3D Home\\nOwned by', '1264 Marchant Pl, Lewisville, TX 75067\\nHouse for sale\\n$259,900\\n3 bds3 ba1,702 sqft\\nOn market Nov 1\\nOwned by', '6010 Green Falls Dr, Houston, TX 77088\\nHouse for sale\\n$187,900\\n3 bds2 ba1,825 sqft\\n3D Home\\nOwned by', '9606 Timberleaf Dr, Dallas, TX 75243\\nHouse for sale\\n$395,000\\n4 bds4 ba3,369 sqft\\nOn market Jul 29\\nOwned by', '2605 Pickwick Ln, Plano, TX 75093\\nHouse for sale\\n$312,900\\n3 bds2 ba1,735 sqft\\n3D Home\\nOwned by', '4713 Palm Ridge Dr, Fort Worth, TX 76133\\nHouse for sale\\n$207,900\\n4 bds3 ba2,674 sqft\\n3D Home\\nOwned by', '2162 Parkside Dr, Little Elm, TX 75068\\nHouse for sale\\n$253,900\\n3 bds2 ba1,642 sqft\\n3D Home\\nOwned by', '1100 Cardinal Oaks Dr, Mansfield, TX 76063\\nHouse for sale\\n$235,900\\n3 bds2 ba1,668 sqft\\n3D Home\\nOwned by', '2058 Belvedere Dr, Lewisville, TX 75067\\nHouse for sale\\n$267,900\\n4 bds2 ba1,827 sqft\\n3D Home\\nOwned by', '5505 Hunters Bend Ln, Dallas, TX 75249\\nHouse for sale\\n$207,900\\n3 bds2 ba1,645 sqft\\n3D Home\\nOwned by', '7679 Kendalwood Dr, Frisco, TX 75035\\nHouse for sale\\n$364,000\\n4 bds4 ba2,737 sqft\\n3D Home\\nOwned by', '4818 Kendra Forest Trl, Katy, TX 77494\\nHouse for sale\\n$335,900\\n4 bds3 ba2,838 sqft\\n3D Home\\nOwned by', '6106 Majestic Hill Dr, Kingwood, TX 77345\\nHouse for sale\\n$655,900\\n4 bds5 ba4,281 sqft\\n3D Home\\nOwned by', '4807 Eagles Glen Dr, Houston, TX 77069\\nHouse for sale\\n$259,900\\n4 bds4 ba2,685 sqft\\n3D Home\\nOwned by', '649 Delphinium Dr, Dallas, TX 75217\\nHouse for sale\\n$178,900\\n3 bds2 ba1,472 sqft\\n3D Home\\nOwned by', '1709 Post Oak Dr, Rowlett, TX 75089\\nHouse for sale\\n$255,000\\n5 bds3 ba2,223 sqft\\nOn market Aug 6\\nOwned by', '1802 Enchanted Cv, Wylie, TX 75098\\nHouse for sale\\n$315,000\\n4 bds3 ba3,000 sqft\\nOn market Aug 1\\nOwned by', '10116 Forest Spring Ln, Pearland, TX 77584\\nHouse for sale\\n$252,900\\n3 bds2 ba2,066 sqft\\n3D Home\\nOwned by', '629 Missionary Rdg, Desoto, TX 75115\\nHouse for sale\\n$322,900\\n4 bds4 ba3,155 sqft\\n3D Home\\nOwned by', '10142 Banestone Blvd, Tomball, TX 77375\\nHouse for sale\\n$440,000\\n5 bds4 ba4,210 sqft\\nOn market Aug 7\\nOwned by', '24987 Stratton Meadows Dr, Porter, TX 77365\\nHouse for sale\\n$334,900\\n5 bds4 ba3,644 sqft\\n3D Home\\nOwned by', '12918 Lady Jane Ct, Houston, TX 77044\\nHouse for sale\\n$267,000\\n4 bds4 ba3,203 sqft\\n3D Home\\nOwned by', '14211 Lake Trail Dr, Sugar Land, TX 77498\\nHouse for sale\\n$286,900\\n4 bds3 ba2,477 sqft\\n3D Home\\nOwned by', '1401 Brimwood Dr, Mckinney, TX 75070\\nHouse for sale\\n$335,900\\n4 bds3 ba2,990 sqft\\n3D Home\\nOwned by', '2100 Valleydale Dr, Arlington, TX 76013\\nHouse for sale\\n$240,000\\n3 bds2 ba1,919 sqft\\n3D Home\\nEbby Halliday Realtors', '1604 Wagon Wheel Dr, Allen, TX 75002\\nHouse for sale\\n$325,000\\n4 bds3 ba2,726 sqft\\nOn market Jul 23\\nOwned by', '3013 Donner Lake Cir, Denton, TX 76210\\nHouse for sale\\n$325,000\\n4 bds3 ba3,046 sqft\\n3D Home\\nOwned by', '11702 Parkriver Dr, Houston, TX 77070\\nHouse for sale\\n$249,900\\n4 bds3 ba2,310 sqft\\n3D Home\\nOwned by', '21611 Trilby Way, Humble, TX 77338\\nHouse for sale\\n$166,900\\n3 bds2 ba1,838 sqft\\n3D Home\\nOwned by', '7100 Occidental Rd, Plano, TX 75025\\nHouse for sale\\n$358,000\\n4 bds4 ba2,197 sqft\\n3D Home\\nOwned by', '2667 Royal Place Ct, Houston, TX 77088\\nComing soon\\n$188,900\\n3 bds2 ba1,762 sqft\\nOn market Nov 6\\nOwned by', '952 Lockhart Dr, Plano, TX 75023\\nHouse for sale\\n$237,000\\n3 bds2 ba1,674 sqft\\n3D Home\\nOwned by', '4833 Salmon Run Way, Fort Worth, TX 76137\\nHouse for sale\\n$257,000\\n4 bds3 ba2,107 sqft\\nOn market Aug 7\\nOwned by', '6202 Balcony Ln, Dallas, TX 75241\\nHouse for sale\\n$190,900\\n3 bds2 ba2,005 sqft\\n3D Home\\nOwned by', '2405 Vail Dr, Mckinney, TX 75070\\nHouse for sale\\n$280,000\\n4 bds3 ba2,161 sqft\\nOn market Jun 19\\nOwned by', '3515 Shadowside Ct, Houston, TX 77082\\nHouse for sale\\n$314,900\\n4 bds3 ba2,343 sqft\\n3D Home\\nOwned by', '2902 Caladium Ct, Garland, TX 75040\\nHouse for sale\\n$256,900\\n3 bds3 ba1,794 sqft\\n3D Home\\nOwned by', '1004 Hunter Ridge Dr, Arlington, TX 76013\\nHouse for sale\\n$222,900\\n3 bds2 ba1,413 sqft\\n3D Home\\nOwned by', '18735 White Candle Dr, Spring, TX 77388\\nHouse for sale\\n$237,900\\n4 bds3 ba2,968 sqft\\n3D Home\\nOwned by', '6909 Cannon Falls Dr, Plano, TX 75024\\nHouse for sale\\n$572,000\\n4 bds4 ba4,001 sqft\\n3D Home\\nOwned by', '1301 Mae Dr, Carrollton, TX 75007\\nHouse for sale\\n$299,900\\n3 bds3 ba1,914 sqft\\nOn market Aug 7\\nOwned by', '2723 Stonebury Ln, Sugar Land, TX 77479\\nHouse for sale\\n$335,900\\n4 bds4 ba3,860 sqft\\nOn market Nov 2\\nOwned by', '13846 Roman Ridge Ln, Houston, TX 77047\\nComing soon\\n$197,900\\n4 bds2 ba1,538 sqft\\nOn market Nov 11\\nOwned by', '3732 Hazel Dr, Fort Worth, TX 76244\\nHouse for sale\\n$217,900\\n3 bds2 ba1,612 sqft\\n3D Home\\nOwned by', '5563 Rocky Mountain Rd, Fort Worth, TX 76137\\nHouse for sale\\n$244,900\\n4 bds3 ba1,934 sqft\\n3D Home\\nOwned by', '13119 Rincon Dr, Houston, TX 77077\\nHouse for sale\\n$301,900\\n4 bds3 ba2,704 sqft\\n3D Home\\nOwned by', '2005 Cooper Ridge Ln, Heartland, TX 75126\\nHouse for sale\\n$219,000\\n4 bds2 ba2,115 sqft\\n3D Home\\nOwned by', '3803 Winding Rd, Arlington, TX 76016\\nHouse for sale\\n$261,900\\n4 bds3 ba2,404 sqft\\n3D Home\\nOwned by', '10200 Mallory Dr, Frisco, TX 75035\\nHouse for sale\\n$296,900\\n3 bds2 ba1,981 sqft\\n3D Home\\nOwned by', '4168 Kyndra Cir, Richardson, TX 75082\\nTownhouse for sale\\n$236,900\\n3 bds3 ba1,439 sqft\\n3D Home\\nOwned by', '2220 Stonepark Pl, Mckinney, TX 75071\\nTownhouse for sale\\n$205,000\\n3 bds3 ba1,465 sqft\\n3D Home\\nOwned by', '302 High Meadow Dr, Mckinney, TX 75070\\nHouse for sale\\n$275,000\\n4 bds3 ba2,422 sqft\\n3D Home\\nOwned by', '6872 Seacoast Dr, Grand Prairie, TX 75054\\nHouse for sale\\n$321,900\\n4 bds3 ba2,935 sqft\\n3D Home\\nOwned by', '3900 Rockwood Dr, Plano, TX 75074\\nHouse for sale\\n$404,900\\n4 bds3 ba3,949 sqft\\n2 days on Zillow\\nOwned by', '16003 Maplehurst Dr, Spring, TX 77379\\nHouse for sale\\n$443,900\\n4 bds6 ba4,559 sqft\\n3D Home\\nOwned by', '13410 Anderwoods Ct, Houston, TX 77070\\nHouse for sale\\n$239,900\\n5 bds3 ba2,235 sqft\\n3D Home\\nOwned by', '5641 Overland Dr, The Colony, TX 75056\\nHouse for sale\\n$332,000\\n4 bds3 ba3,046 sqft\\n3D Home\\nOwned by', '3316 Kimberly Ln, Grand Prairie, TX 75052\\nHouse for sale\\n$310,000\\n4 bds4 ba3,650 sqft\\nOn market Aug 19\\nOwned by']\n"
   ]
  },
  {
   "cell_type": "code",
   "execution_count": 56,
   "metadata": {},
   "outputs": [],
   "source": [
    "data = pd.DataFrame(items)\n",
    "data['split'] = data[0].apply(lambda x: x.split('\\n'))\n",
    "data['Address'] = [address[0] for address in data['split']]\n",
    "data['Listing Type'] = [address[1] for address in data['split']]\n",
    "data['Asking Price'] = [address[2] for address in data['split']]\n",
    "data['Bed/Bath Count'] = [address[3] for address in data['split']]"
   ]
  },
  {
   "cell_type": "code",
   "execution_count": 57,
   "metadata": {},
   "outputs": [
    {
     "data": {
      "text/html": [
       "<div>\n",
       "<style scoped>\n",
       "    .dataframe tbody tr th:only-of-type {\n",
       "        vertical-align: middle;\n",
       "    }\n",
       "\n",
       "    .dataframe tbody tr th {\n",
       "        vertical-align: top;\n",
       "    }\n",
       "\n",
       "    .dataframe thead th {\n",
       "        text-align: right;\n",
       "    }\n",
       "</style>\n",
       "<table border=\"1\" class=\"dataframe\">\n",
       "  <thead>\n",
       "    <tr style=\"text-align: right;\">\n",
       "      <th></th>\n",
       "      <th>Address</th>\n",
       "      <th>Listing Type</th>\n",
       "      <th>Asking Price</th>\n",
       "      <th>Bed/Bath Count</th>\n",
       "    </tr>\n",
       "  </thead>\n",
       "  <tbody>\n",
       "    <tr>\n",
       "      <td>0</td>\n",
       "      <td>1704 Bramble Creek Dr, Desoto, TX 75115</td>\n",
       "      <td>House for sale</td>\n",
       "      <td>$241,900</td>\n",
       "      <td>3 bds2 ba2,408 sqft</td>\n",
       "    </tr>\n",
       "    <tr>\n",
       "      <td>1</td>\n",
       "      <td>10411 Great Plains Ln, Houston, TX 77064</td>\n",
       "      <td>House for sale</td>\n",
       "      <td>$264,900</td>\n",
       "      <td>4 bds3 ba2,310 sqft</td>\n",
       "    </tr>\n",
       "    <tr>\n",
       "      <td>2</td>\n",
       "      <td>12426 Laurel Meadow Way, Houston, TX 77014</td>\n",
       "      <td>House for sale</td>\n",
       "      <td>$194,900</td>\n",
       "      <td>3 bds3 ba2,316 sqft</td>\n",
       "    </tr>\n",
       "    <tr>\n",
       "      <td>3</td>\n",
       "      <td>7314 Birchtree Forest Dr, Houston, TX 77088</td>\n",
       "      <td>House for sale</td>\n",
       "      <td>$304,900</td>\n",
       "      <td>4 bds4 ba3,594 sqft</td>\n",
       "    </tr>\n",
       "    <tr>\n",
       "      <td>4</td>\n",
       "      <td>1700 Ports O Call Dr, Plano, TX 75075</td>\n",
       "      <td>House for sale</td>\n",
       "      <td>$280,900</td>\n",
       "      <td>4 bds2 ba1,852 sqft</td>\n",
       "    </tr>\n",
       "    <tr>\n",
       "      <td>...</td>\n",
       "      <td>...</td>\n",
       "      <td>...</td>\n",
       "      <td>...</td>\n",
       "      <td>...</td>\n",
       "    </tr>\n",
       "    <tr>\n",
       "      <td>75</td>\n",
       "      <td>3900 Rockwood Dr, Plano, TX 75074</td>\n",
       "      <td>House for sale</td>\n",
       "      <td>$404,900</td>\n",
       "      <td>4 bds3 ba3,949 sqft</td>\n",
       "    </tr>\n",
       "    <tr>\n",
       "      <td>76</td>\n",
       "      <td>16003 Maplehurst Dr, Spring, TX 77379</td>\n",
       "      <td>House for sale</td>\n",
       "      <td>$443,900</td>\n",
       "      <td>4 bds6 ba4,559 sqft</td>\n",
       "    </tr>\n",
       "    <tr>\n",
       "      <td>77</td>\n",
       "      <td>13410 Anderwoods Ct, Houston, TX 77070</td>\n",
       "      <td>House for sale</td>\n",
       "      <td>$239,900</td>\n",
       "      <td>5 bds3 ba2,235 sqft</td>\n",
       "    </tr>\n",
       "    <tr>\n",
       "      <td>78</td>\n",
       "      <td>5641 Overland Dr, The Colony, TX 75056</td>\n",
       "      <td>House for sale</td>\n",
       "      <td>$332,000</td>\n",
       "      <td>4 bds3 ba3,046 sqft</td>\n",
       "    </tr>\n",
       "    <tr>\n",
       "      <td>79</td>\n",
       "      <td>3316 Kimberly Ln, Grand Prairie, TX 75052</td>\n",
       "      <td>House for sale</td>\n",
       "      <td>$310,000</td>\n",
       "      <td>4 bds4 ba3,650 sqft</td>\n",
       "    </tr>\n",
       "  </tbody>\n",
       "</table>\n",
       "<p>80 rows × 4 columns</p>\n",
       "</div>"
      ],
      "text/plain": [
       "                                        Address    Listing Type Asking Price  \\\n",
       "0       1704 Bramble Creek Dr, Desoto, TX 75115  House for sale     $241,900   \n",
       "1      10411 Great Plains Ln, Houston, TX 77064  House for sale     $264,900   \n",
       "2    12426 Laurel Meadow Way, Houston, TX 77014  House for sale     $194,900   \n",
       "3   7314 Birchtree Forest Dr, Houston, TX 77088  House for sale     $304,900   \n",
       "4         1700 Ports O Call Dr, Plano, TX 75075  House for sale     $280,900   \n",
       "..                                          ...             ...          ...   \n",
       "75            3900 Rockwood Dr, Plano, TX 75074  House for sale     $404,900   \n",
       "76        16003 Maplehurst Dr, Spring, TX 77379  House for sale     $443,900   \n",
       "77       13410 Anderwoods Ct, Houston, TX 77070  House for sale     $239,900   \n",
       "78       5641 Overland Dr, The Colony, TX 75056  House for sale     $332,000   \n",
       "79    3316 Kimberly Ln, Grand Prairie, TX 75052  House for sale     $310,000   \n",
       "\n",
       "         Bed/Bath Count  \n",
       "0   3 bds2 ba2,408 sqft  \n",
       "1   4 bds3 ba2,310 sqft  \n",
       "2   3 bds3 ba2,316 sqft  \n",
       "3   4 bds4 ba3,594 sqft  \n",
       "4   4 bds2 ba1,852 sqft  \n",
       "..                  ...  \n",
       "75  4 bds3 ba3,949 sqft  \n",
       "76  4 bds6 ba4,559 sqft  \n",
       "77  5 bds3 ba2,235 sqft  \n",
       "78  4 bds3 ba3,046 sqft  \n",
       "79  4 bds4 ba3,650 sqft  \n",
       "\n",
       "[80 rows x 4 columns]"
      ]
     },
     "execution_count": 57,
     "metadata": {},
     "output_type": "execute_result"
    }
   ],
   "source": [
    "data[['Address', 'Listing Type', 'Asking Price', 'Bed/Bath Count']]"
   ]
  },
  {
   "cell_type": "code",
   "execution_count": null,
   "metadata": {},
   "outputs": [],
   "source": []
  },
  {
   "cell_type": "code",
   "execution_count": null,
   "metadata": {},
   "outputs": [],
   "source": [
    "#Must gather these columns: address, listing type, asking price, bed/bath, property size, listing date"
   ]
  },
  {
   "cell_type": "code",
   "execution_count": null,
   "metadata": {},
   "outputs": [],
   "source": []
  },
  {
   "cell_type": "code",
   "execution_count": null,
   "metadata": {},
   "outputs": [],
   "source": []
  },
  {
   "cell_type": "code",
   "execution_count": null,
   "metadata": {},
   "outputs": [],
   "source": []
  }
 ],
 "metadata": {
  "kernelspec": {
   "display_name": "Python 3",
   "language": "python",
   "name": "python3"
  },
  "language_info": {
   "codemirror_mode": {
    "name": "ipython",
    "version": 3
   },
   "file_extension": ".py",
   "mimetype": "text/x-python",
   "name": "python",
   "nbconvert_exporter": "python",
   "pygments_lexer": "ipython3",
   "version": "3.7.3"
  }
 },
 "nbformat": 4,
 "nbformat_minor": 2
}
